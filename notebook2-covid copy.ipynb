{
 "cells": [
  {
   "cell_type": "markdown",
   "metadata": {},
   "source": [
    "# Chi Squared Test of Independence\n",
    "\n",
    "This notebook demonstrates how to use the chi-squared test of independence to determine if two categorical variables are independent or not.\n",
    "\n",
    "Inspired by [Jonathan Stray's Risk Ratios notebook](https://github.com/jstray/risk-ratios/blob/main/risk-ratios-workbook.ipynb)\n",
    "\n",
    "Here's a [paper](https://www.nejm.org/doi/full/10.1056/nejmoa2035389) which reports on the phase 3 clinical trials of the Moderna vaccine. See if you can \n",
    "1. Read the abstract and fill out the contingency table for the vaccine and placebo groups \n",
    "2. Perform a chi-squared test of independence to determine if the vaccine is effective"
   ]
  },
  {
   "cell_type": "markdown",
   "metadata": {},
   "source": [
    "## Setup\n",
    "\n",
    "Ignore this part"
   ]
  },
  {
   "cell_type": "code",
   "execution_count": 1,
   "metadata": {},
   "outputs": [],
   "source": [
    "%load_ext rpy2.ipython\n",
    "%load_ext autoreload\n",
    "%autoreload 2\n",
    "\n",
    "%matplotlib inline  \n",
    "from matplotlib import rcParams\n",
    "rcParams['figure.figsize'] = (16, 100)\n",
    "\n",
    "import warnings\n",
    "from rpy2.rinterface import RRuntimeWarning\n",
    "warnings.filterwarnings(\"ignore\") # Ignore all warnings\n",
    "# warnings.filterwarnings(\"ignore\", category=RRuntimeWarning) # Show some warnings\n",
    "\n",
    "import pandas as pd\n",
    "import numpy as np\n",
    "import matplotlib.pyplot as plt\n",
    "from IPython.display import display, HTML"
   ]
  },
  {
   "cell_type": "code",
   "execution_count": 2,
   "metadata": {},
   "outputs": [
    {
     "data": {
      "application/javascript": "// Disable auto-scrolling\nIPython.OutputArea.prototype._should_scroll = function(lines) {\n    return false;\n}\n",
      "text/plain": [
       "<IPython.core.display.Javascript object>"
      ]
     },
     "metadata": {},
     "output_type": "display_data"
    }
   ],
   "source": [
    "%%javascript\n",
    "// Disable auto-scrolling\n",
    "IPython.OutputArea.prototype._should_scroll = function(lines) {\n",
    "    return false;\n",
    "}"
   ]
  },
  {
   "cell_type": "markdown",
   "metadata": {},
   "source": [
    "## Get Data"
   ]
  },
  {
   "cell_type": "code",
   "execution_count": 3,
   "metadata": {},
   "outputs": [
    {
     "name": "stdout",
     "output_type": "stream",
     "text": [
      "── Attaching core tidyverse packages ──────────────────────── tidyverse 2.0.0 ──\n",
      "✔ dplyr     1.1.4     ✔ readr     2.1.5\n",
      "✔ forcats   1.0.0     ✔ stringr   1.5.1\n",
      "✔ ggplot2   3.4.4     ✔ tibble    3.2.1\n",
      "✔ lubridate 1.9.3     ✔ tidyr     1.3.0\n",
      "✔ purrr     1.0.2     \n",
      "── Conflicts ────────────────────────────────────────── tidyverse_conflicts() ──\n",
      "✖ dplyr::filter() masks stats::filter()\n",
      "✖ dplyr::lag()    masks stats::lag()\n",
      "ℹ Use the conflicted package (<http://conflicted.r-lib.org/>) to force all conflicts to become errors\n"
     ]
    },
    {
     "data": {
      "text/plain": [
       "Loading required package: tidyverse\n"
      ]
     },
     "metadata": {},
     "output_type": "display_data"
    }
   ],
   "source": [
    "%%R \n",
    "\n",
    "require('tidyverse')\n",
    "\n",
    "a = 11 # number of people who DID get the vaccine and DID get COVID\n",
    "b = 15210-11 # number of people who DID get the vaccine and DID NOT get COVID\n",
    "c = 185 # number of people who DID NOT get the vaccine and DID get COVID\n",
    "d = 15210-185 # number of people who DID NOT get the vaccine and DID NOT get COVID"
   ]
  },
  {
   "cell_type": "code",
   "execution_count": 4,
   "metadata": {},
   "outputs": [
    {
     "name": "stdout",
     "output_type": "stream",
     "text": [
      "    group    covid\n",
      "1 placebo no_covid\n",
      "2 placebo no_covid\n",
      "3 vaccine no_covid\n",
      "4 placebo no_covid\n",
      "5 vaccine no_covid\n",
      "6 placebo no_covid\n"
     ]
    }
   ],
   "source": [
    "%%R \n",
    "\n",
    "# R code to generate 30420 data points\n",
    "# of all of these data points half will have \"vaccine\" and half will have \"placebo\" for a variable called group\n",
    "# of the \"vaccine\" group, 11 will have \"covid\" and 15210-11 will have \"no_covid\"\n",
    "# of the \"placebo\" group, 185 will have \"covid\" and 15210-185 will have \"no_covid\"\n",
    "\n",
    "set.seed(1)\n",
    "n = 30420\n",
    "vaccine = rep(\"vaccine\", n/2)\n",
    "placebo = rep(\"placebo\", n/2)\n",
    "group = c(vaccine, placebo)\n",
    "covid = c(rep(\"covid\", a), rep(\"no_covid\", b), rep(\"covid\", c), rep(\"no_covid\", d))\n",
    "simulated_data <- data.frame(group, covid) %>% \n",
    "    sample_frac() # shuffle around the data randomly\n",
    "\n",
    "simulated_data %>% head()"
   ]
  },
  {
   "cell_type": "markdown",
   "metadata": {},
   "source": [
    "## `table` in R "
   ]
  },
  {
   "cell_type": "code",
   "execution_count": 5,
   "metadata": {},
   "outputs": [
    {
     "name": "stdout",
     "output_type": "stream",
     "text": [
      "         \n",
      "          covid no_covid\n",
      "  placebo   185    15025\n",
      "  vaccine    11    15199\n"
     ]
    }
   ],
   "source": [
    "%%R \n",
    "\n",
    "cross_table <- table(simulated_data$group, simulated_data$covid)\n",
    "cross_table"
   ]
  },
  {
   "cell_type": "markdown",
   "metadata": {},
   "source": [
    "## Chi Squared Test"
   ]
  },
  {
   "cell_type": "code",
   "execution_count": 6,
   "metadata": {},
   "outputs": [
    {
     "name": "stdout",
     "output_type": "stream",
     "text": [
      "\n"
     ]
    },
    {
     "name": "stdout",
     "output_type": "stream",
     "text": [
      "\tPearson's Chi-squared test\n",
      "\n",
      "data:  cross_table\n",
      "X-squared = 155.47, df = 1, p-value < 2.2e-16\n",
      "\n"
     ]
    }
   ],
   "source": [
    "%%R \n",
    "\n",
    "# run a chi-squared test\n",
    "chisq.test(cross_table, correct = FALSE)"
   ]
  }
 ],
 "metadata": {
  "kernelspec": {
   "display_name": "Python 3 (ipykernel)",
   "language": "python",
   "name": "python3"
  },
  "language_info": {
   "codemirror_mode": {
    "name": "ipython",
    "version": 3
   },
   "file_extension": ".py",
   "mimetype": "text/x-python",
   "name": "python",
   "nbconvert_exporter": "python",
   "pygments_lexer": "ipython3",
   "version": "3.12.0"
  }
 },
 "nbformat": 4,
 "nbformat_minor": 4
}
