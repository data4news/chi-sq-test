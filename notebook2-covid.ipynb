{
 "cells": [
  {
   "cell_type": "markdown",
   "metadata": {},
   "source": [
    "# Chi Squared Test of Independence\n",
    "\n",
    "This notebook demonstrates how to use the chi-squared test of independence to determine if two categorical variables are independent or not.\n",
    "\n",
    "Inspired by [Jonathan Stray's Risk Ratios notebook](https://github.com/jstray/risk-ratios/blob/main/risk-ratios-workbook.ipynb)\n",
    "\n",
    "Here's a [paper](https://www.nejm.org/doi/full/10.1056/nejmoa2035389) which reports on the phase 3 clinical trials of the Moderna vaccine. See if you can \n",
    "1. Read the abstract and fill out the contingency table for the vaccine and placebo groups \n",
    "2. Perform a chi-squared test of independence to determine if the vaccine is effective"
   ]
  },
  {
   "cell_type": "markdown",
   "metadata": {},
   "source": [
    "## Setup\n",
    "\n",
    "Ignore this part"
   ]
  },
  {
   "cell_type": "code",
   "execution_count": null,
   "metadata": {},
   "outputs": [],
   "source": [
    "%load_ext rpy2.ipython\n",
    "%load_ext autoreload\n",
    "%autoreload 2\n",
    "\n",
    "%matplotlib inline  \n",
    "from matplotlib import rcParams\n",
    "rcParams['figure.figsize'] = (16, 100)\n",
    "\n",
    "import warnings\n",
    "from rpy2.rinterface import RRuntimeWarning\n",
    "warnings.filterwarnings(\"ignore\") # Ignore all warnings\n",
    "# warnings.filterwarnings(\"ignore\", category=RRuntimeWarning) # Show some warnings\n",
    "\n",
    "import pandas as pd\n",
    "import numpy as np\n",
    "import matplotlib.pyplot as plt\n",
    "from IPython.display import display, HTML"
   ]
  },
  {
   "cell_type": "code",
   "execution_count": null,
   "metadata": {},
   "outputs": [],
   "source": [
    "%%javascript\n",
    "// Disable auto-scrolling\n",
    "IPython.OutputArea.prototype._should_scroll = function(lines) {\n",
    "    return false;\n",
    "}"
   ]
  },
  {
   "cell_type": "markdown",
   "metadata": {},
   "source": [
    "## Get Data"
   ]
  },
  {
   "cell_type": "code",
   "execution_count": null,
   "metadata": {},
   "outputs": [],
   "source": [
    "%%R \n",
    "\n",
    "require('tidyverse')\n",
    "\n",
    "a = # number of people who DID get the vaccine and DID get COVID\n",
    "b = # number of people who DID get the vaccine and DID NOT get COVID\n",
    "c = # number of people who DID NOT get the vaccine and DID get COVID\n",
    "d = # number of people who DID NOT get the vaccine and DID NOT get COVID"
   ]
  },
  {
   "cell_type": "code",
   "execution_count": null,
   "metadata": {},
   "outputs": [],
   "source": [
    "%%R \n",
    "\n",
    "# R code to generate 30420 data points\n",
    "# of all of these data points half will have \"vaccine\" and half will have \"placebo\" for a variable called group\n",
    "# of the \"vaccine\" group, 11 will have \"covid\" and 15210-11 will have \"no_covid\"\n",
    "# of the \"placebo\" group, 185 will have \"covid\" and 15210-185 will have \"no_covid\"\n",
    "\n",
    "set.seed(1)\n",
    "n = 30420\n",
    "vaccine = rep(\"vaccine\", n/2)\n",
    "placebo = rep(\"placebo\", n/2)\n",
    "group = c(vaccine, placebo)\n",
    "covid = c(rep(\"covid\", a), rep(\"no_covid\", b), rep(\"covid\", c), rep(\"no_covid\", d))\n",
    "simulated_data <- data.frame(group, covid) %>% \n",
    "    sample_frac() # shuffle around the data randomly\n",
    "\n",
    "simulated_data %>% head()"
   ]
  },
  {
   "cell_type": "markdown",
   "metadata": {},
   "source": [
    "## `table` in R "
   ]
  },
  {
   "cell_type": "code",
   "execution_count": null,
   "metadata": {},
   "outputs": [],
   "source": [
    "%%R \n",
    "\n",
    "cross_table <- table(simulated_data$group, simulated_data$covid)\n",
    "cross_table"
   ]
  },
  {
   "cell_type": "markdown",
   "metadata": {},
   "source": [
    "## Chi Squared Test"
   ]
  },
  {
   "cell_type": "code",
   "execution_count": null,
   "metadata": {},
   "outputs": [],
   "source": [
    "%%R \n",
    "\n",
    "# run a chi-squared test\n",
    "chisq.test(cross_table, correct = FALSE)"
   ]
  },
  {
   "cell_type": "markdown",
   "metadata": {},
   "source": [
    "## Relative Risk"
   ]
  },
  {
   "cell_type": "code",
   "execution_count": null,
   "metadata": {},
   "outputs": [],
   "source": [
    "%%R \n",
    "# what is the risk of getting COVID if you got the vaccine?\n"
   ]
  },
  {
   "cell_type": "code",
   "execution_count": null,
   "metadata": {},
   "outputs": [],
   "source": [
    "%%R \n",
    "# what is the risk of getting COVID if you did not get the vaccine?\n"
   ]
  },
  {
   "cell_type": "code",
   "execution_count": null,
   "metadata": {},
   "outputs": [],
   "source": [
    "%%R \n",
    "\n",
    "# let's talk about the risk ratio"
   ]
  },
  {
   "cell_type": "markdown",
   "metadata": {},
   "source": [
    "# Discussion"
   ]
  },
  {
   "cell_type": "markdown",
   "metadata": {},
   "source": [
    "let's talk as a class about\n",
    "1. communicating relative risk\n",
    "2. experimental vs observational data and how that dramatically changes interpretation of risk ratios"
   ]
  }
 ],
 "metadata": {
  "kernelspec": {
   "display_name": "Python 3 (ipykernel)",
   "language": "python",
   "name": "python3"
  },
  "language_info": {
   "codemirror_mode": {
    "name": "ipython",
    "version": 3
   },
   "file_extension": ".py",
   "mimetype": "text/x-python",
   "name": "python",
   "nbconvert_exporter": "python",
   "pygments_lexer": "ipython3",
   "version": "3.12.0"
  }
 },
 "nbformat": 4,
 "nbformat_minor": 4
}
