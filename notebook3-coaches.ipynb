{
 "cells": [
  {
   "cell_type": "markdown",
   "metadata": {},
   "source": [
    "# Chi Squared Test of Independence\n",
    "\n",
    "This notebook demonstrates how to use the chi-squared test of independence to determine if two categorical variables are independent or not."
   ]
  },
  {
   "cell_type": "markdown",
   "metadata": {},
   "source": [
    "## Setup\n",
    "\n",
    "Ignore this part"
   ]
  },
  {
   "cell_type": "code",
   "execution_count": 1,
   "metadata": {},
   "outputs": [],
   "source": [
    "%load_ext rpy2.ipython\n",
    "%load_ext autoreload\n",
    "%autoreload 2\n",
    "\n",
    "%matplotlib inline  \n",
    "from matplotlib import rcParams\n",
    "rcParams['figure.figsize'] = (16, 100)\n",
    "\n",
    "import warnings\n",
    "from rpy2.rinterface import RRuntimeWarning\n",
    "warnings.filterwarnings(\"ignore\") # Ignore all warnings\n",
    "# warnings.filterwarnings(\"ignore\", category=RRuntimeWarning) # Show some warnings\n",
    "\n",
    "import pandas as pd\n",
    "import numpy as np\n",
    "import matplotlib.pyplot as plt\n",
    "from IPython.display import display, HTML"
   ]
  },
  {
   "cell_type": "code",
   "execution_count": 2,
   "metadata": {},
   "outputs": [
    {
     "data": {
      "application/javascript": "// Disable auto-scrolling\nIPython.OutputArea.prototype._should_scroll = function(lines) {\n    return false;\n}\n",
      "text/plain": [
       "<IPython.core.display.Javascript object>"
      ]
     },
     "metadata": {},
     "output_type": "display_data"
    }
   ],
   "source": [
    "%%javascript\n",
    "// Disable auto-scrolling\n",
    "IPython.OutputArea.prototype._should_scroll = function(lines) {\n",
    "    return false;\n",
    "}"
   ]
  },
  {
   "cell_type": "markdown",
   "metadata": {},
   "source": [
    "## Get Data"
   ]
  },
  {
   "cell_type": "code",
   "execution_count": 3,
   "metadata": {},
   "outputs": [
    {
     "name": "stdout",
     "output_type": "stream",
     "text": [
      "── Attaching core tidyverse packages ──────────────────────── tidyverse 2.0.0 ──\n",
      "✔ dplyr     1.1.4     ✔ readr     2.1.5\n",
      "✔ forcats   1.0.0     ✔ stringr   1.5.1\n",
      "✔ ggplot2   3.4.4     ✔ tibble    3.2.1\n",
      "✔ lubridate 1.9.3     ✔ tidyr     1.3.0\n",
      "✔ purrr     1.0.2     \n",
      "── Conflicts ────────────────────────────────────────── tidyverse_conflicts() ──\n",
      "✖ dplyr::filter() masks stats::filter()\n",
      "✖ dplyr::lag()    masks stats::lag()\n",
      "ℹ Use the conflicted package (<http://conflicted.r-lib.org/>) to force all conflicts to become errors\n",
      "Rows: 208 Columns: 18\n",
      "── Column specification ────────────────────────────────────────────────────────\n",
      "Delimiter: \",\"\n",
      "chr  (3): Unit_of_Analysis, Name, Previous_Job\n",
      "dbl (15): Coach_ID, Age, Hired, Year, Number_of_Interviews_That_Year, Previo...\n",
      "\n",
      "ℹ Use `spec()` to retrieve the full column specification for this data.\n",
      "ℹ Specify the column types or set `show_col_types = FALSE` to quiet this message.\n",
      "# A tibble: 208 × 18\n",
      "   Unit_of_Analysis  Coach_ID Name        Age Hired  Year Number_of_Interviews…¹\n",
      "   <chr>                <dbl> <chr>     <dbl> <dbl> <dbl>                  <dbl>\n",
      " 1 Aaron Glenn 2021         1 Aaron Gl…    48     0  2021                      1\n",
      " 2 Aaron Glenn 2022         1 Aaron Gl…    49     0  2022                      2\n",
      " 3 Adam Gase 2015           2 Adam Gase    36     0  2015                      5\n",
      " 4 Adam Gase 2016           2 Adam Gase    37     1  2016                      4\n",
      " 5 Adam Gase 2019           2 Adam Gase    40     1  2019                      2\n",
      " 6 Anthony Lynn 2015        3 Anthony …    46     0  2015                      1\n",
      " 7 Anthony Lynn 2016        3 Anthony …    47     0  2016                      2\n",
      " 8 Anthony Lynn 2017        3 Anthony …    48     1  2017                      3\n",
      " 9 Arthur Smith 2021        4 Arthur S…    38     1  2021                      6\n",
      "10 Ben McAdoo 2016          5 Ben McAd…    38     1  2016                      2\n",
      "# ℹ 198 more rows\n",
      "# ℹ abbreviated name: ¹​Number_of_Interviews_That_Year\n",
      "# ℹ 11 more variables: Previous_Job <chr>, Previous_Job_Coded <dbl>,\n",
      "#   NFL_Playing_Experience <dbl>, NFL_Coaching_Experience <dbl>,\n",
      "#   Total_NFL_Experience <dbl>, Black <dbl>, White <dbl>, Minority <dbl>,\n",
      "#   OC <dbl>, DC <dbl>, HC <dbl>\n",
      "# ℹ Use `print(n = ...)` to see more rows\n"
     ]
    },
    {
     "data": {
      "text/plain": [
       "Loading required package: tidyverse\n"
      ]
     },
     "metadata": {},
     "output_type": "display_data"
    }
   ],
   "source": [
    "%%R \n",
    "\n",
    "require('tidyverse')\n",
    "coaches <- read_csv('FINAL_coaches_by_year.csv') \n",
    "coaches"
   ]
  },
  {
   "cell_type": "code",
   "execution_count": 4,
   "metadata": {},
   "outputs": [
    {
     "name": "stdout",
     "output_type": "stream",
     "text": [
      "# A tibble: 208 × 3\n",
      "   Unit_of_Analysis  Black     Hired    \n",
      "   <chr>             <fct>     <fct>    \n",
      " 1 Aaron Glenn 2021  Black     Not Hired\n",
      " 2 Aaron Glenn 2022  Black     Not Hired\n",
      " 3 Adam Gase 2015    Not Black Not Hired\n",
      " 4 Adam Gase 2016    Not Black Hired    \n",
      " 5 Adam Gase 2019    Not Black Hired    \n",
      " 6 Anthony Lynn 2015 Black     Not Hired\n",
      " 7 Anthony Lynn 2016 Black     Not Hired\n",
      " 8 Anthony Lynn 2017 Black     Hired    \n",
      " 9 Arthur Smith 2021 Not Black Hired    \n",
      "10 Ben McAdoo 2016   Not Black Hired    \n",
      "# ℹ 198 more rows\n",
      "# ℹ Use `print(n = ...)` to see more rows\n"
     ]
    }
   ],
   "source": [
    "%%R\n",
    "\n",
    "coaches <- coaches %>% \n",
    "    select(c(Unit_of_Analysis, Black, Hired)) %>% \n",
    "    mutate(\n",
    "        Black = factor(Black, levels = c('0', '1'), labels = c('Not Black', 'Black')),\n",
    "        Hired = factor(Hired, levels = c('0', '1'), labels = c('Not Hired', 'Hired'))\n",
    "    )\n",
    "\n",
    "coaches"
   ]
  },
  {
   "cell_type": "markdown",
   "metadata": {},
   "source": [
    "## `table` in R "
   ]
  },
  {
   "cell_type": "code",
   "execution_count": 5,
   "metadata": {},
   "outputs": [
    {
     "name": "stdout",
     "output_type": "stream",
     "text": [
      "           \n",
      "            Not Hired Hired\n",
      "  Not Black        93    48\n",
      "  Black            59     8\n"
     ]
    }
   ],
   "source": [
    "%%R \n",
    "\n",
    "cross_table <- table(coaches$Black, coaches$Hired)\n",
    "cross_table"
   ]
  },
  {
   "cell_type": "markdown",
   "metadata": {},
   "source": [
    "## Chi Squared Test"
   ]
  },
  {
   "cell_type": "code",
   "execution_count": 7,
   "metadata": {},
   "outputs": [
    {
     "name": "stdout",
     "output_type": "stream",
     "text": [
      "\n",
      "\tPearson's Chi-squared test\n",
      "\n",
      "data:  cross_table\n",
      "X-squared = 11.277, df = 1, p-value = 0.0007847\n",
      "\n"
     ]
    }
   ],
   "source": [
    "%%R \n",
    "\n",
    "# run a chi-squared test\n",
    "chisq.test(cross_table, correct = FALSE)"
   ]
  }
 ],
 "metadata": {
  "kernelspec": {
   "display_name": "Python 3 (ipykernel)",
   "language": "python",
   "name": "python3"
  },
  "language_info": {
   "codemirror_mode": {
    "name": "ipython",
    "version": 3
   },
   "file_extension": ".py",
   "mimetype": "text/x-python",
   "name": "python",
   "nbconvert_exporter": "python",
   "pygments_lexer": "ipython3",
   "version": "3.12.0"
  }
 },
 "nbformat": 4,
 "nbformat_minor": 4
}
